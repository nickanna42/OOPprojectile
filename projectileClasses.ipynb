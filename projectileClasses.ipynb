{
 "cells": [
  {
   "cell_type": "code",
   "execution_count": 1,
   "metadata": {
    "collapsed": false
   },
   "outputs": [],
   "source": [
    "import numpy as np\n",
    "import math as math\n",
    "import matplotlib.pyplot as plt\n",
    "%matplotlib inline"
   ]
  },
  {
   "cell_type": "code",
   "execution_count": 2,
   "metadata": {
    "collapsed": false
   },
   "outputs": [],
   "source": [
    "class environment(object):\n",
    "    def __init__(self, density, gravity):\n",
    "        self.density = density\n",
    "        self.gravity = gravity\n",
    "\n",
    "class ball(object):\n",
    "    def __init__(self, diameter, density, position, speed, angle):\n",
    "        self.diameter = diameter\n",
    "        self.density = density\n",
    "        self.position = position\n",
    "        self.vx = speed * math.cos(angle)\n",
    "        self.vy = speed * math.sin(angle)\n",
    "        self.mass = (4/3) * math.pi * (diameter/2)**3 * density\n",
    "        self.time = 0\n",
    "    \n",
    "    def angle(self):\n",
    "        return math.atan2(self.vy, self.vx)\n",
    "    \n",
    "    def speed(self):\n",
    "        return (self.vx**2 + self.vy**2)**(1/2)\n",
    "    \n",
    "    def moveStep(self, medium, dt):\n",
    "        positionOld = self.position\n",
    "        speedOld = self.speed()\n",
    "        angleOld = self.angle()\n",
    "        vxOld = self.vx\n",
    "        vyOld = self.vy\n",
    "        xForceOld = -math.cos(angleOld) * ((1/4) * medium.density * (math.pi) * (self.diameter/2)**2  * speedOld**2)\n",
    "        yForceOld = -math.sin(angleOld) * ((1/4) * medium.density * (math.pi) * (self.diameter/2)**2  * speedOld**2) - self.mass * medium.gravity\n",
    "        self.position = [positionOld[0] + vxOld * dt, positionOld[1] + vyOld * dt]\n",
    "        self.vx = vxOld + (xForceOld/self.mass) * dt\n",
    "        self.vy = vyOld + (yForceOld/self.mass) * dt\n",
    "        self.time = self.time + dt"
   ]
  },
  {
   "cell_type": "code",
   "execution_count": 3,
   "metadata": {
    "collapsed": true
   },
   "outputs": [],
   "source": [
    "def throw(thing, material, dt, maxT = 100000, minY = 0, maxY = 1000):\n",
    "    timeLocal = np.array([thing.time]) \n",
    "    positionLocal = np.array([thing.position])\n",
    "    energyLocal = np.array([thing.mass*(0.5 * thing.speed()**2 + material.gravity * thing.position[1])])\n",
    "    while thing.position[1] <= maxY and thing.position[1] >= minY and thing.time <= maxT:\n",
    "        thing.moveStep(material, dt)\n",
    "        timeLocal = np.append(timeLocal, thing.time)\n",
    "        positionLocal = np.append(positionLocal, [thing.position], axis=0)\n",
    "        energyLocal = np.append(energyLocal, thing.mass*(0.5 * thing.speed()**2 + material.gravity * thing.position[1]))\n",
    "    return timeLocal, positionLocal, energyLocal"
   ]
  },
  {
   "cell_type": "code",
   "execution_count": 4,
   "metadata": {
    "collapsed": false
   },
   "outputs": [],
   "source": [
    "vaccuum = environment(density = 0, gravity= 9.8)\n",
    "air = environment(density = 1.2, gravity= 9.8)\n",
    "###\n",
    "steel1 = ball(.02, 8000, [0,0], 100, np.pi/6)\n",
    "steel2 = ball(.02, 8000, [0,0], 100, np.pi/6)\n",
    "balsa = ball(.02, 160, [0,0], 100, np.pi/6)"
   ]
  },
  {
   "cell_type": "code",
   "execution_count": 5,
   "metadata": {
    "collapsed": false
   },
   "outputs": [],
   "source": [
    "times1, throw1, energies1 = throw(steel1, vaccuum, .001)\n",
    "times2, throw2, energies2 = throw(steel2, air, .001)\n",
    "times3, throw3, energies3 = throw(balsa, air, .001)"
   ]
  },
  {
   "cell_type": "code",
   "execution_count": 6,
   "metadata": {
    "collapsed": false
   },
   "outputs": [
    {
     "data": {
      "text/plain": [
       "[<matplotlib.lines.Line2D at 0x7fb3f78978d0>,\n",
       " <matplotlib.lines.Line2D at 0x7fb3f7897c50>,\n",
       " <matplotlib.lines.Line2D at 0x7fb3f789f518>]"
      ]
     },
     "execution_count": 6,
     "metadata": {},
     "output_type": "execute_result"
    },
    {
     "data": {
      "image/png": "[encoded data removed]",
      "text/plain": [
       "<matplotlib.figure.Figure at 0x7fb3f78c9048>"
      ]
     },
     "metadata": {},
     "output_type": "display_data"
    }
   ],
   "source": [
    "plt.plot(throw1[:,0], throw1[:,1], throw2[:,0], throw2[:,1], throw3[:,0], throw3[:,1])"
   ]
  },
  {
   "cell_type": "code",
   "execution_count": 7,
   "metadata": {
    "collapsed": false
   },
   "outputs": [
    {
     "data": {
      "text/plain": [
       "[<matplotlib.lines.Line2D at 0x7fb3f77067f0>,\n",
       " <matplotlib.lines.Line2D at 0x7fb3f7706b70>,\n",
       " <matplotlib.lines.Line2D at 0x7fb3f770e438>]"
      ]
     },
     "execution_count": 7,
     "metadata": {},
     "output_type": "execute_result"
    },
    {
     "data": {
      "image/png": "[encoded data removed]",
      "text/plain": [
       "<matplotlib.figure.Figure at 0x7fb3f78c2d68>"
      ]
     },
     "metadata": {},
     "output_type": "display_data"
    }
   ],
   "source": [
    "plt.plot(times1, energies1, times2, energies2, times3, energies3)"
   ]
  },
  {
   "cell_type": "code",
   "execution_count": 8,
   "metadata": {
    "collapsed": false
   },
   "outputs": [],
   "source": [
    "def maxDistance(density, diameter, speed, medium, dtheta):\n",
    "    theta = 0\n",
    "    dataArray = np.array([[theta,0]])\n",
    "    while theta <= math.pi/2:\n",
    "        theta = theta + dtheta\n",
    "        testBall = ball(diameter, density, [0,0], speed, theta)\n",
    "        throw(testBall, medium, .001)\n",
    "        dataArray = np.append(dataArray, [[theta, testBall.position[0]]], axis=0)\n",
    "    for i in range(len(dataArray)):\n",
    "        if i == 0:\n",
    "            maxTheta, maxDistance = dataArray[i]\n",
    "        else:\n",
    "            if dataArray[i, 1] > maxDistance:\n",
    "                maxTheta, maxDistance = dataArray[i]\n",
    "    return maxTheta, maxDistance"
   ]
  },
  {
   "cell_type": "code",
   "execution_count": 9,
   "metadata": {
    "collapsed": false
   },
   "outputs": [
    {
     "name": "stdout",
     "output_type": "stream",
     "text": [
      "The maximum angle of the balsa wood is 0.42 rads.\n",
      "The maximum angle of the steel is 0.66 rads.\n"
     ]
    }
   ],
   "source": [
    "balsaAngle, balsaDistance = maxDistance(160, .02, 100, air, .01)\n",
    "steelAngle, steelDistance = maxDistance(8000, .02, 100, air, .01)\n",
    "print(\"The maximum angle of the balsa wood is\", balsaAngle, \"rads.\")\n",
    "print(\"The maximum angle of the steel is\", steelAngle, 'rads.')"
   ]
  }
 ],
 "metadata": {
  "kernelspec": {
   "display_name": "Python 3",
   "language": "python",
   "name": "python3"
  },
  "language_info": {
   "codemirror_mode": {
    "name": "ipython",
    "version": 3
   },
   "file_extension": ".py",
   "mimetype": "text/x-python",
   "name": "python",
   "nbconvert_exporter": "python",
   "pygments_lexer": "ipython3",
   "version": "3.4.3"
  }
 },
 "nbformat": 4,
 "nbformat_minor": 0
}
